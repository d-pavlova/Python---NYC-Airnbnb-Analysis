{
 "cells": [
  {
   "cell_type": "markdown",
   "id": "13a39c27",
   "metadata": {},
   "source": [
    "### Importing libraries and data\n",
    "### Basic checks\n",
    "### Mixed data type check\n",
    "### Missing values check\n",
    "### Duplicates check\n",
    "### Export data"
   ]
  },
  {
   "cell_type": "code",
   "execution_count": null,
   "id": "99bf90fd",
   "metadata": {},
   "outputs": [],
   "source": []
  },
  {
   "cell_type": "code",
   "execution_count": null,
   "id": "d40e88f9",
   "metadata": {},
   "outputs": [],
   "source": []
  },
  {
   "cell_type": "markdown",
   "id": "49f09034",
   "metadata": {},
   "source": [
    "### Importing libraries and data\n"
   ]
  },
  {
   "cell_type": "code",
   "execution_count": 1,
   "id": "0119fd78",
   "metadata": {},
   "outputs": [],
   "source": [
    "# import libraries\n",
    "import pandas as pd\n",
    "import numpy as np\n",
    "import os"
   ]
  },
  {
   "cell_type": "code",
   "execution_count": 2,
   "id": "ac3a2192",
   "metadata": {},
   "outputs": [],
   "source": [
    "# import  data\n",
    "path = r'C:\\Users\\darii\\Documents\\12-2023 Airbnb Analysis'\n",
    "data=pd.read_csv(os.path.join(path, '02 Data', 'Original Data', 'train.csv'))"
   ]
  },
  {
   "cell_type": "markdown",
   "id": "5c2db82c",
   "metadata": {},
   "source": [
    "### Basic checks\n",
    "\n"
   ]
  },
  {
   "cell_type": "code",
   "execution_count": 3,
   "id": "e4e3d56d",
   "metadata": {},
   "outputs": [
    {
     "data": {
      "text/plain": [
       "(48895, 16)"
      ]
     },
     "execution_count": 3,
     "metadata": {},
     "output_type": "execute_result"
    }
   ],
   "source": [
    "# dimension check\n",
    "data.shape"
   ]
  },
  {
   "cell_type": "code",
   "execution_count": 4,
   "id": "5bdae010",
   "metadata": {},
   "outputs": [
    {
     "data": {
      "text/plain": [
       "Index(['id', 'name', 'host_id', 'host_name', 'neighbourhood_group',\n",
       "       'neighbourhood', 'latitude', 'longitude', 'room_type', 'price',\n",
       "       'minimum_nights', 'number_of_reviews', 'last_review',\n",
       "       'reviews_per_month', 'calculated_host_listings_count',\n",
       "       'availability_365'],\n",
       "      dtype='object')"
      ]
     },
     "execution_count": 4,
     "metadata": {},
     "output_type": "execute_result"
    }
   ],
   "source": [
    "# column names\n",
    "data.columns"
   ]
  },
  {
   "cell_type": "markdown",
   "id": "e2cbb255",
   "metadata": {},
   "source": [
    "##### column names are understandable, no changes needed"
   ]
  },
  {
   "cell_type": "code",
   "execution_count": 7,
   "id": "70762538",
   "metadata": {},
   "outputs": [
    {
     "data": {
      "text/plain": [
       "id                                  int64\n",
       "name                               object\n",
       "host_id                             int64\n",
       "host_name                          object\n",
       "neighbourhood_group                object\n",
       "neighbourhood                      object\n",
       "latitude                          float64\n",
       "longitude                         float64\n",
       "room_type                          object\n",
       "price                               int64\n",
       "minimum_nights                      int64\n",
       "number_of_reviews                   int64\n",
       "last_review                        object\n",
       "reviews_per_month                 float64\n",
       "calculated_host_listings_count      int64\n",
       "availability_365                    int64\n",
       "dtype: object"
      ]
     },
     "execution_count": 7,
     "metadata": {},
     "output_type": "execute_result"
    }
   ],
   "source": [
    "# data type check\n",
    "data.dtypes"
   ]
  },
  {
   "cell_type": "markdown",
   "id": "4c31da0e",
   "metadata": {},
   "source": [
    "##### ok"
   ]
  },
  {
   "cell_type": "code",
   "execution_count": 8,
   "id": "158d67ab",
   "metadata": {},
   "outputs": [
    {
     "data": {
      "text/plain": [
       "<bound method DataFrame.info of              id                                               name   host_id  \\\n",
       "0          2539                 Clean & quiet apt home by the park      2787   \n",
       "1          2595                              Skylit Midtown Castle      2845   \n",
       "2          3647                THE VILLAGE OF HARLEM....NEW YORK !      4632   \n",
       "3          3831                    Cozy Entire Floor of Brownstone      4869   \n",
       "4          5022   Entire Apt: Spacious Studio/Loft by central park      7192   \n",
       "...         ...                                                ...       ...   \n",
       "48890  36484665    Charming one bedroom - newly renovated rowhouse   8232441   \n",
       "48891  36485057      Affordable room in Bushwick/East Williamsburg   6570630   \n",
       "48892  36485431            Sunny Studio at Historical Neighborhood  23492952   \n",
       "48893  36485609               43rd St. Time Square-cozy single bed  30985759   \n",
       "48894  36487245  Trendy duplex in the very heart of Hell's Kitchen  68119814   \n",
       "\n",
       "           host_name neighbourhood_group       neighbourhood  latitude  \\\n",
       "0               John            Brooklyn          Kensington  40.64749   \n",
       "1           Jennifer           Manhattan             Midtown  40.75362   \n",
       "2          Elisabeth           Manhattan              Harlem  40.80902   \n",
       "3        LisaRoxanne            Brooklyn        Clinton Hill  40.68514   \n",
       "4              Laura           Manhattan         East Harlem  40.79851   \n",
       "...              ...                 ...                 ...       ...   \n",
       "48890        Sabrina            Brooklyn  Bedford-Stuyvesant  40.67853   \n",
       "48891        Marisol            Brooklyn            Bushwick  40.70184   \n",
       "48892  Ilgar & Aysel           Manhattan              Harlem  40.81475   \n",
       "48893            Taz           Manhattan      Hell's Kitchen  40.75751   \n",
       "48894     Christophe           Manhattan      Hell's Kitchen  40.76404   \n",
       "\n",
       "       longitude        room_type  price  minimum_nights  number_of_reviews  \\\n",
       "0      -73.97237     Private room    149               1                  9   \n",
       "1      -73.98377  Entire home/apt    225               1                 45   \n",
       "2      -73.94190     Private room    150               3                  0   \n",
       "3      -73.95976  Entire home/apt     89               1                270   \n",
       "4      -73.94399  Entire home/apt     80              10                  9   \n",
       "...          ...              ...    ...             ...                ...   \n",
       "48890  -73.94995     Private room     70               2                  0   \n",
       "48891  -73.93317     Private room     40               4                  0   \n",
       "48892  -73.94867  Entire home/apt    115              10                  0   \n",
       "48893  -73.99112      Shared room     55               1                  0   \n",
       "48894  -73.98933     Private room     90               7                  0   \n",
       "\n",
       "      last_review  reviews_per_month  calculated_host_listings_count  \\\n",
       "0      2018-10-19               0.21                               6   \n",
       "1      2019-05-21               0.38                               2   \n",
       "2             NaN                NaN                               1   \n",
       "3      2019-07-05               4.64                               1   \n",
       "4      2018-11-19               0.10                               1   \n",
       "...           ...                ...                             ...   \n",
       "48890         NaN                NaN                               2   \n",
       "48891         NaN                NaN                               2   \n",
       "48892         NaN                NaN                               1   \n",
       "48893         NaN                NaN                               6   \n",
       "48894         NaN                NaN                               1   \n",
       "\n",
       "       availability_365  \n",
       "0                   365  \n",
       "1                   355  \n",
       "2                   365  \n",
       "3                   194  \n",
       "4                     0  \n",
       "...                 ...  \n",
       "48890                 9  \n",
       "48891                36  \n",
       "48892                27  \n",
       "48893                 2  \n",
       "48894                23  \n",
       "\n",
       "[48895 rows x 16 columns]>"
      ]
     },
     "execution_count": 8,
     "metadata": {},
     "output_type": "execute_result"
    }
   ],
   "source": [
    "# basic infos\n",
    "data.info"
   ]
  },
  {
   "cell_type": "markdown",
   "id": "e6d4b5e4",
   "metadata": {},
   "source": [
    "### Mixed data type check"
   ]
  },
  {
   "cell_type": "code",
   "execution_count": 9,
   "id": "0ab798f3",
   "metadata": {},
   "outputs": [
    {
     "name": "stderr",
     "output_type": "stream",
     "text": [
      "C:\\Users\\darii\\AppData\\Local\\Temp\\ipykernel_52032\\4003983837.py:2: FutureWarning: DataFrame.applymap has been deprecated. Use DataFrame.map instead.\n",
      "  weird = (data[[col]].applymap(type) != data[[col]].iloc[0].apply(type)).any(axis = 1)\n",
      "C:\\Users\\darii\\AppData\\Local\\Temp\\ipykernel_52032\\4003983837.py:2: FutureWarning: DataFrame.applymap has been deprecated. Use DataFrame.map instead.\n",
      "  weird = (data[[col]].applymap(type) != data[[col]].iloc[0].apply(type)).any(axis = 1)\n",
      "C:\\Users\\darii\\AppData\\Local\\Temp\\ipykernel_52032\\4003983837.py:2: FutureWarning: DataFrame.applymap has been deprecated. Use DataFrame.map instead.\n",
      "  weird = (data[[col]].applymap(type) != data[[col]].iloc[0].apply(type)).any(axis = 1)\n",
      "C:\\Users\\darii\\AppData\\Local\\Temp\\ipykernel_52032\\4003983837.py:2: FutureWarning: DataFrame.applymap has been deprecated. Use DataFrame.map instead.\n",
      "  weird = (data[[col]].applymap(type) != data[[col]].iloc[0].apply(type)).any(axis = 1)\n",
      "C:\\Users\\darii\\AppData\\Local\\Temp\\ipykernel_52032\\4003983837.py:2: FutureWarning: DataFrame.applymap has been deprecated. Use DataFrame.map instead.\n",
      "  weird = (data[[col]].applymap(type) != data[[col]].iloc[0].apply(type)).any(axis = 1)\n",
      "C:\\Users\\darii\\AppData\\Local\\Temp\\ipykernel_52032\\4003983837.py:2: FutureWarning: DataFrame.applymap has been deprecated. Use DataFrame.map instead.\n",
      "  weird = (data[[col]].applymap(type) != data[[col]].iloc[0].apply(type)).any(axis = 1)\n",
      "C:\\Users\\darii\\AppData\\Local\\Temp\\ipykernel_52032\\4003983837.py:2: FutureWarning: DataFrame.applymap has been deprecated. Use DataFrame.map instead.\n",
      "  weird = (data[[col]].applymap(type) != data[[col]].iloc[0].apply(type)).any(axis = 1)\n",
      "C:\\Users\\darii\\AppData\\Local\\Temp\\ipykernel_52032\\4003983837.py:2: FutureWarning: DataFrame.applymap has been deprecated. Use DataFrame.map instead.\n",
      "  weird = (data[[col]].applymap(type) != data[[col]].iloc[0].apply(type)).any(axis = 1)\n"
     ]
    },
    {
     "name": "stdout",
     "output_type": "stream",
     "text": [
      "name\n",
      "host_name\n",
      "last_review\n"
     ]
    },
    {
     "name": "stderr",
     "output_type": "stream",
     "text": [
      "C:\\Users\\darii\\AppData\\Local\\Temp\\ipykernel_52032\\4003983837.py:2: FutureWarning: DataFrame.applymap has been deprecated. Use DataFrame.map instead.\n",
      "  weird = (data[[col]].applymap(type) != data[[col]].iloc[0].apply(type)).any(axis = 1)\n",
      "C:\\Users\\darii\\AppData\\Local\\Temp\\ipykernel_52032\\4003983837.py:2: FutureWarning: DataFrame.applymap has been deprecated. Use DataFrame.map instead.\n",
      "  weird = (data[[col]].applymap(type) != data[[col]].iloc[0].apply(type)).any(axis = 1)\n",
      "C:\\Users\\darii\\AppData\\Local\\Temp\\ipykernel_52032\\4003983837.py:2: FutureWarning: DataFrame.applymap has been deprecated. Use DataFrame.map instead.\n",
      "  weird = (data[[col]].applymap(type) != data[[col]].iloc[0].apply(type)).any(axis = 1)\n",
      "C:\\Users\\darii\\AppData\\Local\\Temp\\ipykernel_52032\\4003983837.py:2: FutureWarning: DataFrame.applymap has been deprecated. Use DataFrame.map instead.\n",
      "  weird = (data[[col]].applymap(type) != data[[col]].iloc[0].apply(type)).any(axis = 1)\n",
      "C:\\Users\\darii\\AppData\\Local\\Temp\\ipykernel_52032\\4003983837.py:2: FutureWarning: DataFrame.applymap has been deprecated. Use DataFrame.map instead.\n",
      "  weird = (data[[col]].applymap(type) != data[[col]].iloc[0].apply(type)).any(axis = 1)\n",
      "C:\\Users\\darii\\AppData\\Local\\Temp\\ipykernel_52032\\4003983837.py:2: FutureWarning: DataFrame.applymap has been deprecated. Use DataFrame.map instead.\n",
      "  weird = (data[[col]].applymap(type) != data[[col]].iloc[0].apply(type)).any(axis = 1)\n",
      "C:\\Users\\darii\\AppData\\Local\\Temp\\ipykernel_52032\\4003983837.py:2: FutureWarning: DataFrame.applymap has been deprecated. Use DataFrame.map instead.\n",
      "  weird = (data[[col]].applymap(type) != data[[col]].iloc[0].apply(type)).any(axis = 1)\n",
      "C:\\Users\\darii\\AppData\\Local\\Temp\\ipykernel_52032\\4003983837.py:2: FutureWarning: DataFrame.applymap has been deprecated. Use DataFrame.map instead.\n",
      "  weird = (data[[col]].applymap(type) != data[[col]].iloc[0].apply(type)).any(axis = 1)\n"
     ]
    }
   ],
   "source": [
    "for col in data.columns.tolist():\n",
    "  weird = (data[[col]].applymap(type) != data[[col]].iloc[0].apply(type)).any(axis = 1)\n",
    "  if len (data[weird]) > 0:\n",
    "    print (col)"
   ]
  },
  {
   "cell_type": "markdown",
   "id": "802e4edb",
   "metadata": {},
   "source": [
    "##### data type to change for columns name, host_name and last_review\n"
   ]
  },
  {
   "cell_type": "code",
   "execution_count": 10,
   "id": "0aff943b",
   "metadata": {},
   "outputs": [],
   "source": [
    "# change data type for name\n",
    "data['name'] = data['name'].astype('str')"
   ]
  },
  {
   "cell_type": "code",
   "execution_count": 11,
   "id": "8df11693",
   "metadata": {},
   "outputs": [],
   "source": [
    "# change data type for host_name\n",
    "data['host_name'] = data['host_name'].astype('str')"
   ]
  },
  {
   "cell_type": "code",
   "execution_count": 12,
   "id": "fe309e17",
   "metadata": {},
   "outputs": [],
   "source": [
    "# change data type for last_review\n",
    "data['last_review'] = data['last_review'].astype('str')"
   ]
  },
  {
   "cell_type": "markdown",
   "id": "cff33aec",
   "metadata": {},
   "source": [
    "##### check the changes"
   ]
  },
  {
   "cell_type": "code",
   "execution_count": 13,
   "id": "2c3c0367",
   "metadata": {},
   "outputs": [
    {
     "name": "stderr",
     "output_type": "stream",
     "text": [
      "C:\\Users\\darii\\AppData\\Local\\Temp\\ipykernel_52032\\4003983837.py:2: FutureWarning: DataFrame.applymap has been deprecated. Use DataFrame.map instead.\n",
      "  weird = (data[[col]].applymap(type) != data[[col]].iloc[0].apply(type)).any(axis = 1)\n",
      "C:\\Users\\darii\\AppData\\Local\\Temp\\ipykernel_52032\\4003983837.py:2: FutureWarning: DataFrame.applymap has been deprecated. Use DataFrame.map instead.\n",
      "  weird = (data[[col]].applymap(type) != data[[col]].iloc[0].apply(type)).any(axis = 1)\n",
      "C:\\Users\\darii\\AppData\\Local\\Temp\\ipykernel_52032\\4003983837.py:2: FutureWarning: DataFrame.applymap has been deprecated. Use DataFrame.map instead.\n",
      "  weird = (data[[col]].applymap(type) != data[[col]].iloc[0].apply(type)).any(axis = 1)\n",
      "C:\\Users\\darii\\AppData\\Local\\Temp\\ipykernel_52032\\4003983837.py:2: FutureWarning: DataFrame.applymap has been deprecated. Use DataFrame.map instead.\n",
      "  weird = (data[[col]].applymap(type) != data[[col]].iloc[0].apply(type)).any(axis = 1)\n",
      "C:\\Users\\darii\\AppData\\Local\\Temp\\ipykernel_52032\\4003983837.py:2: FutureWarning: DataFrame.applymap has been deprecated. Use DataFrame.map instead.\n",
      "  weird = (data[[col]].applymap(type) != data[[col]].iloc[0].apply(type)).any(axis = 1)\n",
      "C:\\Users\\darii\\AppData\\Local\\Temp\\ipykernel_52032\\4003983837.py:2: FutureWarning: DataFrame.applymap has been deprecated. Use DataFrame.map instead.\n",
      "  weird = (data[[col]].applymap(type) != data[[col]].iloc[0].apply(type)).any(axis = 1)\n",
      "C:\\Users\\darii\\AppData\\Local\\Temp\\ipykernel_52032\\4003983837.py:2: FutureWarning: DataFrame.applymap has been deprecated. Use DataFrame.map instead.\n",
      "  weird = (data[[col]].applymap(type) != data[[col]].iloc[0].apply(type)).any(axis = 1)\n",
      "C:\\Users\\darii\\AppData\\Local\\Temp\\ipykernel_52032\\4003983837.py:2: FutureWarning: DataFrame.applymap has been deprecated. Use DataFrame.map instead.\n",
      "  weird = (data[[col]].applymap(type) != data[[col]].iloc[0].apply(type)).any(axis = 1)\n",
      "C:\\Users\\darii\\AppData\\Local\\Temp\\ipykernel_52032\\4003983837.py:2: FutureWarning: DataFrame.applymap has been deprecated. Use DataFrame.map instead.\n",
      "  weird = (data[[col]].applymap(type) != data[[col]].iloc[0].apply(type)).any(axis = 1)\n",
      "C:\\Users\\darii\\AppData\\Local\\Temp\\ipykernel_52032\\4003983837.py:2: FutureWarning: DataFrame.applymap has been deprecated. Use DataFrame.map instead.\n",
      "  weird = (data[[col]].applymap(type) != data[[col]].iloc[0].apply(type)).any(axis = 1)\n",
      "C:\\Users\\darii\\AppData\\Local\\Temp\\ipykernel_52032\\4003983837.py:2: FutureWarning: DataFrame.applymap has been deprecated. Use DataFrame.map instead.\n",
      "  weird = (data[[col]].applymap(type) != data[[col]].iloc[0].apply(type)).any(axis = 1)\n",
      "C:\\Users\\darii\\AppData\\Local\\Temp\\ipykernel_52032\\4003983837.py:2: FutureWarning: DataFrame.applymap has been deprecated. Use DataFrame.map instead.\n",
      "  weird = (data[[col]].applymap(type) != data[[col]].iloc[0].apply(type)).any(axis = 1)\n",
      "C:\\Users\\darii\\AppData\\Local\\Temp\\ipykernel_52032\\4003983837.py:2: FutureWarning: DataFrame.applymap has been deprecated. Use DataFrame.map instead.\n",
      "  weird = (data[[col]].applymap(type) != data[[col]].iloc[0].apply(type)).any(axis = 1)\n",
      "C:\\Users\\darii\\AppData\\Local\\Temp\\ipykernel_52032\\4003983837.py:2: FutureWarning: DataFrame.applymap has been deprecated. Use DataFrame.map instead.\n",
      "  weird = (data[[col]].applymap(type) != data[[col]].iloc[0].apply(type)).any(axis = 1)\n",
      "C:\\Users\\darii\\AppData\\Local\\Temp\\ipykernel_52032\\4003983837.py:2: FutureWarning: DataFrame.applymap has been deprecated. Use DataFrame.map instead.\n",
      "  weird = (data[[col]].applymap(type) != data[[col]].iloc[0].apply(type)).any(axis = 1)\n",
      "C:\\Users\\darii\\AppData\\Local\\Temp\\ipykernel_52032\\4003983837.py:2: FutureWarning: DataFrame.applymap has been deprecated. Use DataFrame.map instead.\n",
      "  weird = (data[[col]].applymap(type) != data[[col]].iloc[0].apply(type)).any(axis = 1)\n"
     ]
    }
   ],
   "source": [
    "for col in data.columns.tolist():\n",
    "  weird = (data[[col]].applymap(type) != data[[col]].iloc[0].apply(type)).any(axis = 1)\n",
    "  if len (data[weird]) > 0:\n",
    "    print (col)"
   ]
  },
  {
   "cell_type": "markdown",
   "id": "c9f953b6",
   "metadata": {},
   "source": [
    "##### data types where changed"
   ]
  },
  {
   "cell_type": "markdown",
   "id": "44ab05c5",
   "metadata": {},
   "source": [
    "### Missing values check"
   ]
  },
  {
   "cell_type": "code",
   "execution_count": 14,
   "id": "775fc211",
   "metadata": {},
   "outputs": [
    {
     "data": {
      "text/plain": [
       "id                                    0\n",
       "name                                  0\n",
       "host_id                               0\n",
       "host_name                             0\n",
       "neighbourhood_group                   0\n",
       "neighbourhood                         0\n",
       "latitude                              0\n",
       "longitude                             0\n",
       "room_type                             0\n",
       "price                                 0\n",
       "minimum_nights                        0\n",
       "number_of_reviews                     0\n",
       "last_review                           0\n",
       "reviews_per_month                 10052\n",
       "calculated_host_listings_count        0\n",
       "availability_365                      0\n",
       "dtype: int64"
      ]
     },
     "execution_count": 14,
     "metadata": {},
     "output_type": "execute_result"
    }
   ],
   "source": [
    "# finding missing values\n",
    "data.isnull().sum()"
   ]
  },
  {
   "cell_type": "code",
   "execution_count": 18,
   "id": "33304640",
   "metadata": {},
   "outputs": [
    {
     "data": {
      "text/plain": [
       "reviews_per_month\n",
       "0.02     919\n",
       "1.00     893\n",
       "0.05     893\n",
       "0.03     804\n",
       "0.16     667\n",
       "        ... \n",
       "9.15       1\n",
       "9.16       1\n",
       "6.58       1\n",
       "9.21       1\n",
       "58.50      1\n",
       "Name: count, Length: 937, dtype: int64"
      ]
     },
     "execution_count": 18,
     "metadata": {},
     "output_type": "execute_result"
    }
   ],
   "source": [
    "# check the reviews_per_month column\n",
    "data.value_counts('reviews_per_month')"
   ]
  },
  {
   "cell_type": "markdown",
   "id": "8e9c065b",
   "metadata": {},
   "source": [
    "##### --> missing values mean there were no reviews within the year. The observation should be kept as they are relevant for analysis"
   ]
  },
  {
   "cell_type": "markdown",
   "id": "a790492f",
   "metadata": {},
   "source": [
    "### Duplicates check"
   ]
  },
  {
   "cell_type": "code",
   "execution_count": 19,
   "id": "eb9190fa",
   "metadata": {},
   "outputs": [],
   "source": [
    "data_dups = data[data.duplicated()]"
   ]
  },
  {
   "cell_type": "code",
   "execution_count": 20,
   "id": "054baf94",
   "metadata": {},
   "outputs": [
    {
     "data": {
      "text/html": [
       "<div>\n",
       "<style scoped>\n",
       "    .dataframe tbody tr th:only-of-type {\n",
       "        vertical-align: middle;\n",
       "    }\n",
       "\n",
       "    .dataframe tbody tr th {\n",
       "        vertical-align: top;\n",
       "    }\n",
       "\n",
       "    .dataframe thead th {\n",
       "        text-align: right;\n",
       "    }\n",
       "</style>\n",
       "<table border=\"1\" class=\"dataframe\">\n",
       "  <thead>\n",
       "    <tr style=\"text-align: right;\">\n",
       "      <th></th>\n",
       "      <th>id</th>\n",
       "      <th>name</th>\n",
       "      <th>host_id</th>\n",
       "      <th>host_name</th>\n",
       "      <th>neighbourhood_group</th>\n",
       "      <th>neighbourhood</th>\n",
       "      <th>latitude</th>\n",
       "      <th>longitude</th>\n",
       "      <th>room_type</th>\n",
       "      <th>price</th>\n",
       "      <th>minimum_nights</th>\n",
       "      <th>number_of_reviews</th>\n",
       "      <th>last_review</th>\n",
       "      <th>reviews_per_month</th>\n",
       "      <th>calculated_host_listings_count</th>\n",
       "      <th>availability_365</th>\n",
       "    </tr>\n",
       "  </thead>\n",
       "  <tbody>\n",
       "  </tbody>\n",
       "</table>\n",
       "</div>"
      ],
      "text/plain": [
       "Empty DataFrame\n",
       "Columns: [id, name, host_id, host_name, neighbourhood_group, neighbourhood, latitude, longitude, room_type, price, minimum_nights, number_of_reviews, last_review, reviews_per_month, calculated_host_listings_count, availability_365]\n",
       "Index: []"
      ]
     },
     "execution_count": 20,
     "metadata": {},
     "output_type": "execute_result"
    }
   ],
   "source": [
    "data_dups"
   ]
  },
  {
   "cell_type": "markdown",
   "id": "9bfa1bf6",
   "metadata": {},
   "source": [
    "##### --> no full duplicates"
   ]
  },
  {
   "cell_type": "markdown",
   "id": "8be20686",
   "metadata": {},
   "source": [
    "### Export cleaned data"
   ]
  },
  {
   "cell_type": "code",
   "execution_count": 21,
   "id": "53512bf6",
   "metadata": {},
   "outputs": [],
   "source": [
    "data.to_pickle(os.path.join(path, '02 Data','Prepared Data', 'data_clean.pkl'))"
   ]
  },
  {
   "cell_type": "code",
   "execution_count": null,
   "id": "25e51c11",
   "metadata": {},
   "outputs": [],
   "source": []
  }
 ],
 "metadata": {
  "kernelspec": {
   "display_name": "Python 3 (ipykernel)",
   "language": "python",
   "name": "python3"
  },
  "language_info": {
   "codemirror_mode": {
    "name": "ipython",
    "version": 3
   },
   "file_extension": ".py",
   "mimetype": "text/x-python",
   "name": "python",
   "nbconvert_exporter": "python",
   "pygments_lexer": "ipython3",
   "version": "3.11.5"
  }
 },
 "nbformat": 4,
 "nbformat_minor": 5
}
